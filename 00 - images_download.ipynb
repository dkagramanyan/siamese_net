{
 "cells": [
  {
   "cell_type": "code",
   "execution_count": null,
   "metadata": {
    "collapsed": true
   },
   "outputs": [],
   "source": [
    "import pandas as pd\n",
    "import urllib\n",
    "import httplib2\n",
    "import urllib.request\n",
    "import re"
   ]
  },
  {
   "cell_type": "code",
   "execution_count": null,
   "outputs": [],
   "source": [
    "#\n",
    "# saint george download\n",
    "#\n",
    "% pdb\n",
    "georges_path = 'saint george images/georges'\n",
    "non_georges_path = 'saint george images/non georges'\n",
    "\n",
    "georges_url = 'saint george images/georges/georges.csv'\n",
    "non_georges_url = 'saint george images/non georges/non_georges.csv'\n",
    "\n",
    "georges_df = pd.read_csv(georges_url)\n",
    "non_georges_df = pd.read_csv(non_georges_url)\n",
    "\n",
    "for i, url in enumerate(georges_df.values):\n",
    "    h = httplib2.Http('.cache')\n",
    "    response, content = h.request(url[0])\n",
    "    out = open(georges_path + '/' + str(i) + '.jpg', \"wb\")\n",
    "    out.write(content)\n",
    "    out.close()\n",
    "\n",
    "for i, url in enumerate(non_georges_df.values):\n",
    "    h = httplib2.Http('.cache')\n",
    "    response, content = h.request(url[0])\n",
    "    out = open(non_georges_path + '/' + str(i) + '.jpg', \"wb\")\n",
    "    out.write(content)\n",
    "    out.close()\n"
   ],
   "metadata": {
    "collapsed": false,
    "pycharm": {
     "name": "#%%\n"
    }
   }
  }
 ],
 "metadata": {
  "kernelspec": {
   "display_name": "Python 3",
   "language": "python",
   "name": "python3"
  },
  "language_info": {
   "codemirror_mode": {
    "name": "ipython",
    "version": 2
   },
   "file_extension": ".py",
   "mimetype": "text/x-python",
   "name": "python",
   "nbconvert_exporter": "python",
   "pygments_lexer": "ipython2",
   "version": "2.7.6"
  }
 },
 "nbformat": 4,
 "nbformat_minor": 0
}