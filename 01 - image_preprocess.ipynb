{
 "cells": [
  {
   "cell_type": "code",
   "execution_count": 2,
   "metadata": {
    "pycharm": {
     "is_executing": false
    }
   },
   "outputs": [],
   "source": [
    "from skimage import io\n",
    "import dlib\n",
    "import numpy as np\n",
    "import os\n",
    "import re\n",
    "import skimage.transform as tr\n",
    "import matplotlib.pyplot as plt\n",
    "from PIL import Image,ImageDraw\n",
    "from IPython.core.display import display\n",
    "from skimage.transform import resize\n",
    "import pandas as pd\n",
    "#import urllibg\n",
    "#import httplib2\n",
    "#import urllib.request\n"
   ]
  },
  {
   "cell_type": "markdown",
   "metadata": {},
   "source": [
    "# First step - image downloading\n",
    "\n",
    "I used 2 datasets: Saint Georges(https://drive.google.com/drive/folders/1hXAjwpBj6shfWd1taWMFpSqelFCzi6KJ) and SoF(https://www.sites.google.com/view/sof-dataset)\n",
    "\n",
    "SoF dataset is easy to download, just follow the instructions on the site. However, it is not true for Saint Georges. To download them need sent queries to the url"
   ]
  },
  {
   "cell_type": "code",
   "execution_count": null,
   "metadata": {},
   "outputs": [],
   "source": [
    "#\n",
    "# saint george download\n",
    "#\n",
    "georges_path = 'saint george images/georges'\n",
    "non_georges_path='saint george images/non georges'\n",
    "\n",
    "georges_url='saint george images/georges/georges.csv'\n",
    "non_georges_url = 'saint george images/non georges/non_georges.csv'\n",
    "\n",
    "georges_df = pd.read_csv(georges_url)\n",
    "non_georges_df = pd.read_csv(non_georges_url)\n",
    "\n",
    "for i, url in enumerate(georges_df.values):\n",
    "    h = httplib2.Http('.cache')\n",
    "    response, content = h.request(url[0])\n",
    "    out = open(georges_path + '/' + str(i) + '.jpg', \"wb\")\n",
    "    out.write(content)\n",
    "    out.close()\n",
    "\n",
    "for i, url in enumerate(non_georges_df.values):\n",
    "    h = httplib2.Http('.cache')\n",
    "    response, content = h.request(url[0])\n",
    "    out = open(non_georges_path + '/' + str(i) + '.jpg', \"wb\")\n",
    "    out.write(content)\n",
    "    out.close()\n",
    "\n"
   ]
  },
  {
   "cell_type": "markdown",
   "metadata": {},
   "source": [
    "## Resize images\n",
    "If there is no necessity in the selection of the face, we can just resize images"
   ]
  },
  {
   "cell_type": "code",
   "execution_count": 4,
   "metadata": {},
   "outputs": [],
   "source": [
    "def resize_images(path,new_path,new_shape):\n",
    "\n",
    "    folder_names=os.listdir(path)\n",
    "    os.mkdir(new_path)\n",
    "    \n",
    "    for name in folder_names:\n",
    "        os.mkdir(new_path+'/'+name)\n",
    "\n",
    "    for folder in folder_names:\n",
    "        images_names=os.listdir(path+'/'+folder)\n",
    "        for image_name in images_names:\n",
    "            image=io.imread(path+'/'+folder+'/'+image_name)\n",
    "            resized_image=resize(image,new_shape)\n",
    "            io.imsave(new_path+'/'+folder+'/'+image_name,resized_image,check_contrast=False)\n"
   ]
  },
  {
   "cell_type": "code",
   "execution_count": 7,
   "metadata": {},
   "outputs": [],
   "source": [
    "path='saint george images'\n",
    "new_path='saint georges dataset'\n",
    "shape=(128,128,3)\n",
    "#resize_images(path,new_path,shape)"
   ]
  },
  {
   "cell_type": "markdown",
   "metadata": {},
   "source": [
    "# Second step - face highlighting"
   ]
  },
  {
   "cell_type": "markdown",
   "metadata": {},
   "source": [
    "Main approach was taken from https://habr.com/ru/post/317798/ . The idea is to take 3 main point of the face and make Affine transformation to wrap face into new position\n",
    "\n",
    "Main tool - predictor and detector from libraty dlib"
   ]
  },
  {
   "cell_type": "markdown",
   "metadata": {},
   "source": [
    "### Read computed weights"
   ]
  },
  {
   "cell_type": "code",
   "execution_count": null,
   "metadata": {
    "pycharm": {
     "is_executing": false
    }
   },
   "outputs": [],
   "source": [
    "face_template_path='preprocess weights/face_template.npy'\n",
    "dlib_predictor_path=\"preprocess weights/shape_predictor_68_face_landmarks.dat\" "
   ]
  },
  {
   "cell_type": "markdown",
   "metadata": {},
   "source": [
    "### Find main points of the face "
   ]
  },
  {
   "cell_type": "markdown",
   "metadata": {},
   "source": [
    "It is possible as dlib detector is pre-trained to find face points. It works on segmentation"
   ]
  },
  {
   "cell_type": "code",
   "execution_count": null,
   "metadata": {
    "pycharm": {
     "is_executing": false
    }
   },
   "outputs": [],
   "source": [
    "path_me=\"display images/me.jpg\"\n",
    "image=io.imread(path_me)\n",
    "\n",
    "face_template=np.load(face_template_path)\n",
    "detector = dlib.get_frontal_face_detector()\n",
    "predictor = dlib.shape_predictor(dlib_predictor_path)\n",
    "\n",
    "face_rects=list(detector(image,1))\n",
    "face_rect=face_rects[0]\n",
    "\n",
    "points=predictor(image,face_rect)                         \n",
    "landmarks=np.array(list(map(lambda p: [p.x,p.y],points.parts())))"
   ]
  },
  {
   "cell_type": "markdown",
   "metadata": {},
   "source": [
    "### Lets look where points are located"
   ]
  },
  {
   "cell_type": "code",
   "execution_count": null,
   "metadata": {
    "pycharm": {
     "is_executing": false
    }
   },
   "outputs": [],
   "source": [
    "photo=Image.open(path_me)  \n",
    "pix=photo.load()            \n",
    "draw=ImageDraw.Draw(photo) \n",
    "N=1\n",
    "\n",
    "for point in landmarks:     \n",
    "    draw.ellipse(((point[0]-N,point[1]-N),(point[0]+N,point[1]+N)),fill=(0,139,139))\n",
    "\n",
    "plt.figure(figsize=(7,7))\n",
    "#plt.imshow(photo)"
   ]
  },
  {
   "cell_type": "markdown",
   "metadata": {},
   "source": [
    "### Choose 3 main points"
   ]
  },
  {
   "cell_type": "markdown",
   "metadata": {},
   "source": [
    "Now we choose 3 main point on the image. It's not difficult as we know indeces of those points. Then to use Affine transformatiom need to choose 3 points, where the image would be wrapped"
   ]
  },
  {
   "cell_type": "code",
   "execution_count": null,
   "metadata": {
    "pycharm": {
     "is_executing": false
    }
   },
   "outputs": [],
   "source": [
    "INNER_EYES_AND_BOTTOM_LIP = [39, 42, 57]                         \n",
    "proper_landmarks = 227 * face_template[INNER_EYES_AND_BOTTOM_LIP] \n",
    "current_landmarks = landmarks[INNER_EYES_AND_BOTTOM_LIP]          "
   ]
  },
  {
   "cell_type": "markdown",
   "metadata": {},
   "source": [
    "### Draw 3 main point on the face"
   ]
  },
  {
   "cell_type": "code",
   "execution_count": null,
   "metadata": {
    "pycharm": {
     "is_executing": false
    }
   },
   "outputs": [],
   "source": [
    "photo=Image.open(path_me)\n",
    "pix=photo.load()\n",
    "draw=ImageDraw.Draw(photo)\n",
    "for point in current_landmarks:\n",
    "\n",
    "    draw.ellipse(((point[0]-N,point[1]-N),(point[0]+N,point[1]+N)),fill=(255,0,0))\n",
    "plt.figure(figsize=(7,7))\n",
    "#plt.imshow(photo)"
   ]
  },
  {
   "cell_type": "markdown",
   "metadata": {},
   "source": [
    "### Mathematical view"
   ]
  },
  {
   "cell_type": "markdown",
   "metadata": {},
   "source": [
    "The Affine transformation equetion consists of 2 matrices of points and T - transformation. $X^1, Y^1$ are points on original image and $X^0, Y^0$ are points on new, wrapped image"
   ]
  },
  {
   "cell_type": "code",
   "execution_count": 8,
   "metadata": {},
   "outputs": [
    {
     "data": {
      "image/png": "[encoded data removed]",
      "text/plain": [
       "<PIL.JpegImagePlugin.JpegImageFile image mode=RGB size=289x95 at 0x28395C19B00>"
      ]
     },
     "metadata": {},
     "output_type": "display_data"
    }
   ],
   "source": [
    "path_matrix=\"display images/matrix.jpg\"\n",
    "image_matrix=Image.open(path_matrix)\n",
    "display(image_matrix)"
   ]
  },
  {
   "cell_type": "markdown",
   "metadata": {},
   "source": [
    "### Affine transform"
   ]
  },
  {
   "cell_type": "code",
   "execution_count": null,
   "metadata": {},
   "outputs": [],
   "source": [
    "size=256\n",
    "A = np.hstack([current_landmarks, np.ones((3, 1))]).astype(np.float64)\n",
    "B = np.hstack([proper_landmarks, np.ones((3, 1))]).astype(np.float64)\n",
    "T = np.linalg.solve(A, B).T\n",
    "\n",
    "wrapped = tr.warp(\n",
    "image,\n",
    "tr.AffineTransform(T).inverse,\n",
    "output_shape=(size, size),\n",
    "mode='constant',\n",
    "cval=0,\n",
    "preserve_range=True\n",
    ")\n",
    "im = Image.fromarray(wrapped.astype(np.uint8))\n",
    "#display(im)"
   ]
  },
  {
   "cell_type": "markdown",
   "metadata": {},
   "source": [
    "## Bring together all methods\n"
   ]
  },
  {
   "cell_type": "code",
   "execution_count": null,
   "metadata": {
    "pycharm": {
     "is_executing": false
    }
   },
   "outputs": [],
   "source": [
    "\n",
    "def preprocess_sof(path,new_path,face_template_path,dlib_predictor_path):\n",
    "\n",
    "    files_names=os.listdir(path)\n",
    "    folder_names=list(set([ name[:4] for name in files_names]))\n",
    "\n",
    "    os.mkdir(new_path)\n",
    "    for i,name in enumerate(folder_names):\n",
    "        os.mkdir(new_path+'/'+str(i))\n",
    "    size=128\n",
    "        \n",
    "    face_template=np.load(face_template_path)\n",
    "    predictor=dlib.shape_predictor(dlib_predictor_path)\n",
    "    detector=dlib.get_frontal_face_detector()\n",
    "    INNER_EYES_AND_BOTTOM_LIP = [39, 42, 57]\n",
    "    \n",
    "    for name in files_names:\n",
    "        image=io.imread(path+'/'+name)\n",
    "\n",
    "        face_rects=list(detector(image,1))\n",
    "        try:\n",
    "            face_rect=face_rects[0]\n",
    "\n",
    "            points=predictor(image,face_rect)\n",
    "            landmarks=np.array(list(map(lambda p: [p.x,p.y],points.parts())))\n",
    "\n",
    "            proper_landmarks=size*face_template[INNER_EYES_AND_BOTTOM_LIP]\n",
    "            current_landmarks = landmarks[INNER_EYES_AND_BOTTOM_LIP]\n",
    "\n",
    "            A = np.hstack([current_landmarks, np.ones((3, 1))]).astype(np.float64)\n",
    "            B = np.hstack([proper_landmarks, np.ones((3, 1))]).astype(np.float64)\n",
    "            T = np.linalg.solve(A, B).T\n",
    "\n",
    "            wrapped = tr.warp(\n",
    "            image,\n",
    "            tr.AffineTransform(T).inverse,\n",
    "            output_shape=(size, size),\n",
    "            mode='constant',\n",
    "            cval=0,\n",
    "            preserve_range=True\n",
    "            )\n",
    "            im = Image.fromarray(wrapped.astype(np.uint8))\n",
    "            way=name[:4]\n",
    "\n",
    "            namel=name[6:10]\n",
    "            im.save(new_path+'/'+str(folder_names.index(way))+'/'+str(namel)+'.jpg')\n",
    "        except Exception:\n",
    "            pass"
   ]
  },
  {
   "cell_type": "code",
   "execution_count": null,
   "metadata": {
    "pycharm": {
     "is_executing": false,
     "name": "#%%\n"
    }
   },
   "outputs": [],
   "source": [
    "face_template_path='preprocess weights/face_template.npy'\n",
    "dlib_predictor_path=\"preprocess weights/shape_predictor_68_face_landmarks.dat\" \n",
    "#preprocess_sof('photo','sof dataset',face_template_path,dlib_predictor_path)   "
   ]
  },
  {
   "cell_type": "markdown",
   "metadata": {},
   "source": [
    "## Remove classes, where the number of images is smaller, then threshold\n",
    "\n",
    "if the number if class images is very small, it is necessary to remove that class as model will not be able to train on them enough"
   ]
  },
  {
   "cell_type": "code",
   "execution_count": null,
   "metadata": {
    "pycharm": {
     "is_executing": false
    }
   },
   "outputs": [],
   "source": [
    "path='sof dataset'\n",
    "N=11     # minimal number of images of the class\n",
    "files_names=os.listdir(path)\n",
    "folder_names=list(set([ name[:4] for name in files_names]))\n",
    "for i in folder_names:\n",
    "    if len(os.listdir(path+'/'+str(i)))<N:\n",
    "        for j in os.listdir(path+'/'+str(i)):\n",
    "            os.remove(path+'/'+str(i)+'/'+j)\n",
    "        os.rmdir(path+'/'+str(i))\n"
   ]
  }
 ],
 "metadata": {
  "kernelspec": {
   "display_name": "tf2",
   "language": "python",
   "name": "tf2"
  },
  "language_info": {
   "codemirror_mode": {
    "name": "ipython",
    "version": 3
   },
   "file_extension": ".py",
   "mimetype": "text/x-python",
   "name": "python",
   "nbconvert_exporter": "python",
   "pygments_lexer": "ipython3",
   "version": "3.8.11"
  },
  "pycharm": {
   "stem_cell": {
    "cell_type": "raw",
    "metadata": {
     "collapsed": false
    },
    "source": []
   }
  }
 },
 "nbformat": 4,
 "nbformat_minor": 4
}
