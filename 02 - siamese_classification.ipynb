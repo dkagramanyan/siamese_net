{
 "cells": [
  {
   "cell_type": "code",
   "execution_count": 1,
   "outputs": [],
   "source": [
    "import tensorflow as tf\n",
    "from tensorflow.keras.models import Model\n",
    "from tensorflow.keras.layers import Input, Flatten, Dense, Dropout,Activation, Lambda,LeakyReLU,ReLU\n",
    "from tensorflow.keras.layers import Conv2D,MaxPooling2D,BatchNormalization,LayerNormalization,GlobalMaxPooling2D\n",
    "from tensorflow.keras.optimizers import RMSprop, Adam\n",
    "from tensorflow.keras.activations import sigmoid\n",
    "from tensorflow.keras.datasets import fashion_mnist\n",
    "from tensorflow.python.keras.utils.vis_utils import plot_model\n",
    "from tensorflow.keras.models import Sequential\n",
    "from tensorflow.keras.applications.vgg16 import VGG16\n",
    "from tensorflow.keras import backend as K\n",
    "from sklearn.model_selection import train_test_split\n",
    "import matplotlib.pyplot as plt\n",
    "from matplotlib.pyplot import imread\n",
    "import pandas as pd\n",
    "import numpy as np\n",
    "import os\n",
    "\n",
    "from image_utils import get_pairs,get_dataset_info,estimate_dataset\n"
   ],
   "metadata": {
    "collapsed": false,
    "pycharm": {
     "name": "#%%\n"
    }
   }
  },
  {
   "cell_type": "markdown",
   "metadata": {},
   "source": [
    "# Object classification"
   ]
  },
  {
   "cell_type": "markdown",
   "metadata": {},
   "source": [
    "## Define images main information"
   ]
  },
  {
   "cell_type": "code",
   "execution_count": 2,
   "metadata": {},
   "outputs": [
    {
     "name": "stdout",
     "output_type": "stream",
     "text": [
      "-------------------------------------------------------\n",
      "Dataset info\n",
      "\n",
      "image shape =  (128, 128, 3)\n",
      "image weight =  48.0  KiB uint8\n",
      "number of classes =  4\n",
      "number of pictures =  164\n",
      "\n",
      "positive pairs count = 8506\n",
      "positive pairs images weight = 0.779  GiB (uint8) \n",
      "\n",
      "negative pairs count = 18390\n",
      "negative pairs images weight = 1.684  GiB (uint8) \n",
      "\n",
      "total memory size = 2.463  GiB (uint8)\n"
     ]
    }
   ],
   "source": [
    "main_folder_name='sof dataset'\n",
    "get_dataset_info(main_folder_name)"
   ]
  },
  {
   "cell_type": "markdown",
   "metadata": {},
   "source": [
    "## Define dataset parametrs "
   ]
  },
  {
   "cell_type": "code",
   "execution_count": 3,
   "metadata": {},
   "outputs": [
    {
     "name": "stdout",
     "output_type": "stream",
     "text": [
      "-------------------------------------------------------\n",
      "Estimated info\n",
      "\n",
      "desired positive pairs count = 13000\n",
      "positive pairs images weight = 1.19  GiB (uint8) or  4.761 GiB (float32)\n",
      "\n",
      "desired negative pairs count = 12000\n",
      "negative pairs images weight = 1.099  GiB (uint8) or  4.395 GiB (float32)\n",
      "\n",
      "total memory size = 2.289  GiB\n"
     ]
    }
   ],
   "source": [
    "image_shape=(128,128,3)\n",
    "max_positive_pairs_count=13000\n",
    "max_negative_pairs_count=12000\n",
    "estimate_dataset(main_folder_name,\n",
    "                 max_positive_pairs_count,\n",
    "                 max_negative_pairs_count)"
   ]
  },
  {
   "cell_type": "markdown",
   "metadata": {},
   "source": [
    "## Preprocces the images"
   ]
  },
  {
   "cell_type": "code",
   "execution_count": 11,
   "metadata": {},
   "outputs": [
    {
     "name": "stdout",
     "output_type": "stream",
     "text": [
      "Calculation began\n",
      "\n",
      "Calculation is done\n",
      "\n",
      "passed seconds:  49.299  seconds\n"
     ]
    }
   ],
   "source": [
    "pairs,labels=get_pairs(main_folder_name,\n",
    "                       max_positive_pairs_count,\n",
    "                       max_negative_pairs_count)"
   ]
  },
  {
   "cell_type": "code",
   "execution_count": 12,
   "metadata": {},
   "outputs": [],
   "source": [
    "train_pairs,test_pairs,train_labels,test_labels=train_test_split(pairs,labels,test_size=0.05)"
   ]
  },
  {
   "cell_type": "markdown",
   "metadata": {},
   "source": [
    "## Siamese pecularity"
   ]
  },
  {
   "cell_type": "markdown",
   "metadata": {},
   "source": [
    "As siamese network measure distance between we define Euclidean distance Lambda layer and special contrastive loss ( https://arxiv.org/abs/2011.02803 )"
   ]
  },
  {
   "cell_type": "code",
   "execution_count": 13,
   "metadata": {},
   "outputs": [],
   "source": [
    "def euclidean_distance(vects):\n",
    "    x, y = vects\n",
    "    sum_square = K.sum(K.square(x - y), axis=1, keepdims=True)\n",
    "    return K.sqrt(K.maximum(sum_square, K.epsilon()))\n",
    "\n",
    "\n",
    "def eucl_dist_output_shape(shapes):\n",
    "    shape1, shape2 = shapes\n",
    "    return (shape1[0], 1)\n",
    "\n",
    "def contrastive_loss_with_margin(margin):\n",
    "    def contrastive_loss(y_true, y_pred):\n",
    "    \n",
    "        square_pred = K.square(y_pred)\n",
    "        margin_square = K.square(K.maximum(margin - y_pred, 0))\n",
    "        return K.mean( (1 - y_true) * square_pred+y_true*margin_square)\n",
    "    \n",
    "    return contrastive_loss"
   ]
  },
  {
   "cell_type": "code",
   "execution_count": 14,
   "metadata": {},
   "outputs": [],
   "source": [
    "def get_model():\n",
    "    #\n",
    "    #   it is also good idea to use VGG model, but it requires powerfull GPU\n",
    "    #   model = Sequential(VGG16(weights='imagenet', include_top=False, input_shape=image_shape).layers)\n",
    "    #\n",
    "    model=Sequential()\n",
    "    \n",
    "    model.add(Conv2D(32,(3,3),input_shape=image_shape))\n",
    "    model.add(BatchNormalization())\n",
    "    model.add(Conv2D(32,(3,3)))\n",
    "    model.add(MaxPooling2D((2,2)))\n",
    "        \n",
    "    model.add(Conv2D(64,(3,3)))\n",
    "    model.add(BatchNormalization())\n",
    "    model.add(Conv2D(64,(3,3)))\n",
    "    model.add(MaxPooling2D((2,2)))\n",
    "\n",
    "    model.add(Conv2D(128,(3,3)))\n",
    "    model.add(BatchNormalization())\n",
    "    model.add(Conv2D(128,(3,3)))\n",
    "    model.add(MaxPooling2D((3,3)))\n",
    "    \n",
    "    model.add(Conv2D(256,(3,3)))\n",
    "    model.add(BatchNormalization())\n",
    "    model.add(Conv2D(256,(3,3)))\n",
    "    model.add(MaxPooling2D((3,3)))\n",
    "    \n",
    "    model.add(Flatten())\n",
    "    model.add(Dense(512))\n",
    "    model.add(LeakyReLU(0.2))\n",
    "    model.add(Dense(256))\n",
    "    model.add(LeakyReLU(0.2))\n",
    "\n",
    "    return model"
   ]
  },
  {
   "cell_type": "code",
   "execution_count": 15,
   "metadata": {},
   "outputs": [
    {
     "name": "stdout",
     "output_type": "stream",
     "text": [
      "WARNING:tensorflow:From C:\\Anaconda\\envs\\env_neuro\\lib\\site-packages\\tensorflow_core\\python\\ops\\resource_variable_ops.py:1630: calling BaseResourceVariable.__init__ (from tensorflow.python.ops.resource_variable_ops) with constraint is deprecated and will be removed in a future version.\n",
      "Instructions for updating:\n",
      "If using Keras pass *_constraint arguments to layers.\n",
      "Model: \"sequential\"\n",
      "_________________________________________________________________\n",
      "Layer (type)                 Output Shape              Param #   \n",
      "=================================================================\n",
      "conv2d (Conv2D)              (None, 126, 126, 32)      896       \n",
      "_________________________________________________________________\n",
      "batch_normalization (BatchNo (None, 126, 126, 32)      128       \n",
      "_________________________________________________________________\n",
      "conv2d_1 (Conv2D)            (None, 124, 124, 32)      9248      \n",
      "_________________________________________________________________\n",
      "max_pooling2d (MaxPooling2D) (None, 62, 62, 32)        0         \n",
      "_________________________________________________________________\n",
      "conv2d_2 (Conv2D)            (None, 60, 60, 64)        18496     \n",
      "_________________________________________________________________\n",
      "batch_normalization_1 (Batch (None, 60, 60, 64)        256       \n",
      "_________________________________________________________________\n",
      "conv2d_3 (Conv2D)            (None, 58, 58, 64)        36928     \n",
      "_________________________________________________________________\n",
      "max_pooling2d_1 (MaxPooling2 (None, 29, 29, 64)        0         \n",
      "_________________________________________________________________\n",
      "conv2d_4 (Conv2D)            (None, 27, 27, 128)       73856     \n",
      "_________________________________________________________________\n",
      "batch_normalization_2 (Batch (None, 27, 27, 128)       512       \n",
      "_________________________________________________________________\n",
      "conv2d_5 (Conv2D)            (None, 25, 25, 128)       147584    \n",
      "_________________________________________________________________\n",
      "max_pooling2d_2 (MaxPooling2 (None, 8, 8, 128)         0         \n",
      "_________________________________________________________________\n",
      "conv2d_6 (Conv2D)            (None, 6, 6, 256)         295168    \n",
      "_________________________________________________________________\n",
      "batch_normalization_3 (Batch (None, 6, 6, 256)         1024      \n",
      "_________________________________________________________________\n",
      "conv2d_7 (Conv2D)            (None, 4, 4, 256)         590080    \n",
      "_________________________________________________________________\n",
      "max_pooling2d_3 (MaxPooling2 (None, 1, 1, 256)         0         \n",
      "_________________________________________________________________\n",
      "flatten (Flatten)            (None, 256)               0         \n",
      "_________________________________________________________________\n",
      "dense (Dense)                (None, 512)               131584    \n",
      "_________________________________________________________________\n",
      "leaky_re_lu (LeakyReLU)      (None, 512)               0         \n",
      "_________________________________________________________________\n",
      "dense_1 (Dense)              (None, 256)               131328    \n",
      "_________________________________________________________________\n",
      "leaky_re_lu_1 (LeakyReLU)    (None, 256)               0         \n",
      "=================================================================\n",
      "Total params: 1,437,088\n",
      "Trainable params: 1,436,128\n",
      "Non-trainable params: 960\n",
      "_________________________________________________________________\n"
     ]
    }
   ],
   "source": [
    "base_network = get_model()\n",
    "base_network.summary()"
   ]
  },
  {
   "cell_type": "markdown",
   "metadata": {},
   "source": [
    "## Define siamese model"
   ]
  },
  {
   "cell_type": "markdown",
   "metadata": {},
   "source": [
    "To provide weights sycronization we define left and right inputs with the same model"
   ]
  },
  {
   "cell_type": "code",
   "execution_count": 16,
   "metadata": {},
   "outputs": [],
   "source": [
    "input_a = Input(shape=image_shape)\n",
    "vect_output_a = base_network(input_a)\n",
    "\n",
    "input_b = Input(shape=image_shape)\n",
    "vect_output_b = base_network(input_b)\n",
    "\n",
    "x = Lambda(euclidean_distance, output_shape=eucl_dist_output_shape)([vect_output_a, vect_output_b])\n",
    "output= Dense(1,activation='sigmoid')(x)\n",
    "\n",
    "# specify the inputs and output of the model\n",
    "model = Model([input_a, input_b], output)"
   ]
  },
  {
   "cell_type": "code",
   "execution_count": 17,
   "metadata": {},
   "outputs": [
    {
     "name": "stdout",
     "output_type": "stream",
     "text": [
      "Model: \"model\"\n",
      "__________________________________________________________________________________________________\n",
      "Layer (type)                    Output Shape         Param #     Connected to                     \n",
      "==================================================================================================\n",
      "input_1 (InputLayer)            [(None, 128, 128, 3) 0                                            \n",
      "__________________________________________________________________________________________________\n",
      "input_2 (InputLayer)            [(None, 128, 128, 3) 0                                            \n",
      "__________________________________________________________________________________________________\n",
      "sequential (Sequential)         (None, 256)          1437088     input_1[0][0]                    \n",
      "                                                                 input_2[0][0]                    \n",
      "__________________________________________________________________________________________________\n",
      "lambda (Lambda)                 (None, 1)            0           sequential[1][0]                 \n",
      "                                                                 sequential[2][0]                 \n",
      "__________________________________________________________________________________________________\n",
      "dense_2 (Dense)                 (None, 1)            2           lambda[0][0]                     \n",
      "==================================================================================================\n",
      "Total params: 1,437,090\n",
      "Trainable params: 1,436,130\n",
      "Non-trainable params: 960\n",
      "__________________________________________________________________________________________________\n"
     ]
    }
   ],
   "source": [
    "model.summary()"
   ]
  },
  {
   "cell_type": "markdown",
   "metadata": {},
   "source": [
    "## Model training"
   ]
  },
  {
   "cell_type": "markdown",
   "metadata": {},
   "source": [
    "*Important*, 43 epochs take 4 hours to train on gxt 980 ti. Make sure, that you have enough computation power"
   ]
  },
  {
   "cell_type": "code",
   "execution_count": 20,
   "metadata": {},
   "outputs": [
    {
     "name": "stdout",
     "output_type": "stream",
     "text": [
      "Train on 19000 samples, validate on 4750 samples\n",
      "Epoch 1/17\n",
      "19000/19000 [==============================] - 260s 14ms/sample - loss: 0.2341 - val_loss: 0.2333\n",
      "Epoch 2/17\n",
      "19000/19000 [==============================] - 280s 15ms/sample - loss: 0.2253 - val_loss: 0.2277\n",
      "Epoch 3/17\n",
      "19000/19000 [==============================] - 284s 15ms/sample - loss: 0.2164 - val_loss: 0.2176\n",
      "Epoch 4/17\n",
      "19000/19000 [==============================] - 299s 16ms/sample - loss: 0.2038 - val_loss: 0.2058\n",
      "Epoch 5/17\n",
      "19000/19000 [==============================] - 299s 16ms/sample - loss: 0.1904 - val_loss: 0.1976\n",
      "Epoch 6/17\n",
      "19000/19000 [==============================] - 260s 14ms/sample - loss: 0.1758 - val_loss: 0.1805\n",
      "Epoch 7/17\n",
      "19000/19000 [==============================] - 260s 14ms/sample - loss: 0.1595 - val_loss: 0.1700\n",
      "Epoch 8/17\n",
      "19000/19000 [==============================] - 259s 14ms/sample - loss: 0.1430 - val_loss: 0.1516\n",
      "Epoch 9/17\n",
      "19000/19000 [==============================] - 260s 14ms/sample - loss: 0.1274 - val_loss: 0.1357\n",
      "Epoch 10/17\n",
      "19000/19000 [==============================] - 261s 14ms/sample - loss: 0.1110 - val_loss: 0.1241\n",
      "Epoch 11/17\n",
      "19000/19000 [==============================] - 261s 14ms/sample - loss: 0.0973 - val_loss: 0.1065\n",
      "Epoch 12/17\n",
      "19000/19000 [==============================] - 260s 14ms/sample - loss: 0.0861 - val_loss: 0.0924\n",
      "Epoch 13/17\n",
      "19000/19000 [==============================] - 259s 14ms/sample - loss: 0.0759 - val_loss: 0.0832\n",
      "Epoch 14/17\n",
      "19000/19000 [==============================] - 261s 14ms/sample - loss: 0.0673 - val_loss: 0.0824\n",
      "Epoch 15/17\n",
      "19000/19000 [==============================] - 265s 14ms/sample - loss: 0.0605 - val_loss: 0.0666\n",
      "Epoch 16/17\n",
      "19000/19000 [==============================] - 267s 14ms/sample - loss: 0.0538 - val_loss: 0.0585\n",
      "Epoch 17/17\n",
      "19000/19000 [==============================] - 268s 14ms/sample - loss: 0.0485 - val_loss: 0.0531\n"
     ]
    }
   ],
   "source": [
    "optim = RMSprop(  learning_rate=0.0001)\n",
    "#optim = Adam(  learning_rate=0.015)\n",
    "model.compile(loss=contrastive_loss_with_margin(margin=1), optimizer=optim)\n",
    "history = model.fit([train_pairs[:,0],train_pairs[:,1]], \n",
    "                    train_labels, \n",
    "                    epochs=17, \n",
    "                    batch_size=18,\n",
    "                    validation_split=0.2)"
   ]
  },
  {
   "cell_type": "markdown",
   "metadata": {},
   "source": [
    "## Save weights and history"
   ]
  },
  {
   "cell_type": "code",
   "execution_count": 21,
   "metadata": {},
   "outputs": [],
   "source": [
    "saved_path='saved data'\n",
    "\n",
    "#weights_name='georges_weight.h5'\n",
    "#history_name='georges_history.json'\n",
    "\n",
    "weights_name='georges_weight.h5'\n",
    "history_name='georges_history.json'\n",
    "\n",
    "hist_json_file = saved_path+'/'+history_name\n",
    "weights_file=saved_path+'/' +weights_name\n",
    "\n",
    "model.save_weights(weights_file)\n",
    "hist_df = pd.DataFrame(history.history)  \n",
    "\n",
    "with open(hist_json_file, mode='w') as f:\n",
    "    hist_df.to_json(f)"
   ]
  },
  {
   "cell_type": "markdown",
   "metadata": {},
   "source": [
    "## Load weights and history"
   ]
  },
  {
   "cell_type": "code",
   "execution_count": 32,
   "metadata": {},
   "outputs": [],
   "source": [
    "saved_path='saved data'\n",
    "\n",
    "#weights_name='human_weight.h5'\n",
    "#history_name='human_history.json'\n",
    "\n",
    "weights_name='georges_weight.h5'\n",
    "history_name='georges_history.json'\n",
    "\n",
    "hist_json_file = saved_path+'/'+history_name\n",
    "weights_file=saved_path+'/' +weights_name\n",
    "\n",
    "model.load_weights(weights_file)\n",
    "loaded_history=pd.read_json(hist_json_file)"
   ]
  },
  {
   "cell_type": "markdown",
   "metadata": {},
   "source": [
    "## Loss plot"
   ]
  },
  {
   "cell_type": "code",
   "execution_count": 43,
   "metadata": {},
   "outputs": [],
   "source": [
    "def plot_loss(loaded_history,title):\n",
    "    loss=loaded_history['loss']\n",
    "    val_loss=loaded_history['val_loss']\n",
    "    x=range(len(loss))\n",
    "    X=15\n",
    "    Y=8\n",
    "    plt.figure(figsize=(X,Y))\n",
    "    plt.plot(x,loss,'b',x,val_loss,'g')\n",
    "    plt.title(title, fontsize=20, fontname='Times New Roman')\n",
    "    plt.legend(['loss','val_loss'])\n",
    "    plt.xlabel('Epoch')\n",
    "    plt.ylabel('Loss')\n",
    "    plt.show()"
   ]
  },
  {
   "cell_type": "code",
   "execution_count": 45,
   "metadata": {},
   "outputs": [
    {
     "data": {
      "image/png": "[encoded data removed]",
      "text/plain": [
       "<Figure size 1080x576 with 1 Axes>"
      ]
     },
     "metadata": {
      "needs_background": "light"
     },
     "output_type": "display_data"
    }
   ],
   "source": [
    "title='George losses per epoch'\n",
    "plot_loss(loaded_history,title)"
   ]
  },
  {
   "cell_type": "markdown",
   "metadata": {},
   "source": [
    "## Model testing\n",
    "\n",
    "To compute accuracy of the model define rule: if predicted value is bigger, then 0.5, the result is 1, else 0"
   ]
  },
  {
   "cell_type": "code",
   "execution_count": 36,
   "metadata": {},
   "outputs": [],
   "source": [
    "def compute_accuracy(y_true, y_pred):\n",
    "    '''Compute classification accuracy with a fixed threshold on distances.\n",
    "    '''\n",
    "    pred = y_pred.ravel() > 0.5\n",
    "    return round(np.mean(pred == y_true),4)"
   ]
  },
  {
   "cell_type": "code",
   "execution_count": 37,
   "metadata": {},
   "outputs": [
    {
     "name": "stdout",
     "output_type": "stream",
     "text": [
      "1250/1250 [==============================] - 5s 4ms/sample - loss: 0.0556\n",
      "Loss = 0.0556, Train Accuracy = 0.5001 Test Accuracy = 0.5001\n"
     ]
    }
   ],
   "source": [
    "loss = round(model.evaluate(x=[test_pairs[:,0],test_pairs[:,1]], y=test_labels),4)\n",
    "\n",
    "y_pred_train = model.predict([test_pairs[:,0], test_pairs[:,1]])\n",
    "train_accuracy = compute_accuracy(test_labels, y_pred_train)\n",
    "\n",
    "y_pred_test = model.predict([test_pairs[:,0], test_pairs[:,1]])\n",
    "test_accuracy = compute_accuracy(test_labels, y_pred_test)\n",
    "\n",
    "print(\"Loss = {}, Train Accuracy = {} Test Accuracy = {}\".format(loss, train_accuracy, test_accuracy))"
   ]
  }
 ],
 "metadata": {
  "kernelspec": {
   "name": "tf2",
   "language": "python",
   "display_name": "tf2"
  },
  "language_info": {
   "codemirror_mode": {
    "name": "ipython",
    "version": 3
   },
   "file_extension": ".py",
   "mimetype": "text/x-python",
   "name": "python",
   "nbconvert_exporter": "python",
   "pygments_lexer": "ipython3",
   "version": "3.6.10"
  }
 },
 "nbformat": 4,
 "nbformat_minor": 4
}